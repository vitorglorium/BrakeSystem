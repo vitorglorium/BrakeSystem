{
  "nbformat": 4,
  "nbformat_minor": 0,
  "metadata": {
    "colab": {
      "provenance": [],
      "authorship_tag": "ABX9TyNpj8SG/oBu6Xr0ADB4OOny",
      "include_colab_link": true
    },
    "kernelspec": {
      "name": "python3",
      "display_name": "Python 3"
    },
    "language_info": {
      "name": "python"
    }
  },
  "cells": [
    {
      "cell_type": "markdown",
      "metadata": {
        "id": "view-in-github",
        "colab_type": "text"
      },
      "source": [
        "<a href=\"https://colab.research.google.com/github/vitorglorium/BrakeSystem/blob/main/Freios.ipynb\" target=\"_parent\"><img src=\"https://colab.research.google.com/assets/colab-badge.svg\" alt=\"Open In Colab\"/></a>"
      ]
    },
    {
      "cell_type": "code",
      "execution_count": null,
      "metadata": {
        "id": "WvC_vSPEFCPa"
      },
      "outputs": [],
      "source": [
        "def introducao():\n",
        "  ##fonte é funky_dr | https://pt.rakko.tools/tools/68/\n",
        "  print(\"----------------------------------------------------------------------------------------------------------\")\n",
        "  print('##   ##   ######   #####    #####             ######   #####    #####    ######  ##   ##  ##        ##### ')\n",
        "  print('##   ##  ##       ##   ##  ##   ##           ##       ##   ##  ##   ##  ## ## ## ##   ##  ##       ##   ##')\n",
        "  print('##   ##  ## ###   ## ###   ## ###            ## ###   ##   ##  ## ###   ## ## ## ##   ##  ##       ## ####')\n",
        "  print('##   ##  ##       ##       ##   ##           ##       ##   ##  ##   ##  ## ## ## ##   ##  ###      ##   ##')\n",
        "  print(' #####   ##       ##       ##   ##           ##        #####   ##   ##  ## ## ##  #####    ######  ##   ##')\n",
        "  print(\"----------------------------------------------------------------------------------------------------------\")\n",
        "  print(\"                Este modelo foi criado com base em pedais do tipo fixo com CMs fixos.                     \")\n",
        "  print(\"                Para manter conformidade nos resultados, use SEMPRE unidades padrões.                     \")\n",
        "  print(\"                      Metros | Segundos | Pascal (N/m²) | Newtons | Kg | etc.                             \")\n",
        "  print(\"                                        By: Vitor Glorium                                                 \")\n",
        "  print(\"----------------------------------------------------------------------------------------------------------\")\n",
        "\n",
        "\n",
        "def teste():"
      ]
    }
  ]
}